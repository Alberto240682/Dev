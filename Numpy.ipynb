{
 "cells": [
  {
   "cell_type": "markdown",
   "id": "75649b4f",
   "metadata": {},
   "source": [
    "# Introducción a Numpy"
   ]
  },
  {
   "cell_type": "markdown",
   "id": "3be197a6",
   "metadata": {},
   "source": [
    "[Numpy](https://numpy.org/doc/stable/) es una biblioteca fundamental para la computación científica con Python.\n",
    "\n",
    "* Proporciona arrays N-dimensionales.\n",
    "* Implementa funciones matemáticas sofisticadas.\n",
    "* Proporciona herramientas para integrar C/C++ y Fortran.\n",
    "* Proporciona mecanismos para facilitar la realización de tareas relacionadas con álgebra lineal o números aleatorios."
   ]
  },
  {
   "cell_type": "markdown",
   "id": "2a25b60b",
   "metadata": {},
   "source": [
    "## Import"
   ]
  },
  {
   "cell_type": "code",
   "execution_count": 2,
   "id": "adb2babf",
   "metadata": {},
   "outputs": [],
   "source": [
    "import numpy as np"
   ]
  },
  {
   "cell_type": "markdown",
   "id": "4fbbc6f3",
   "metadata": {},
   "source": [
    "## Arrays\n",
    "\n",
    "Un **array** es una estructura de datos que consiste en una selección de elementos (valores o variables), cada uno identificado por al menos un índice o clave. Un array se almacena de modo que la posición de cada elemento se pueda calcular a partir de su tupla de indice mediante su fórmula matemática. El tipo más simple de array es un array lineal, tambien llamado array unidimensional.\n",
    "\n",
    "En Numpy:\n",
    "* Cada dimensión se denomina **axis**.\n",
    "* El número de dimensiones se denomina **rank**.\n",
    "* La lista de dimensiones con su correspondente longitud se denomina *+shape**.\n",
    "* El número total de elementos (multiplicación de la longitud de las dimensiones), se denomina **size**.\n",
    "\n"
   ]
  },
  {
   "cell_type": "code",
   "execution_count": 3,
   "id": "5414b220",
   "metadata": {},
   "outputs": [
    {
     "data": {
      "text/plain": [
       "array([[0., 0., 0., 0.],\n",
       "       [0., 0., 0., 0.]])"
      ]
     },
     "execution_count": 3,
     "metadata": {},
     "output_type": "execute_result"
    }
   ],
   "source": [
    "a = np.zeros((2,4))\n",
    "a "
   ]
  },
  {
   "cell_type": "markdown",
   "id": "9a9a3776",
   "metadata": {},
   "source": [
    "**a** es un array:\n",
    "\n",
    "* Con dos **axis**, la primera de longitud 2 y el segundo de longitud 4.\n",
    "* Con un **rank** igual a 2.\n",
    "* Con un **Shape** igual (2,4).\n",
    "* Con un **Size** igual a 8."
   ]
  },
  {
   "cell_type": "code",
   "execution_count": 4,
   "id": "4d4b8667",
   "metadata": {},
   "outputs": [
    {
     "data": {
      "text/plain": [
       "(2, 4)"
      ]
     },
     "execution_count": 4,
     "metadata": {},
     "output_type": "execute_result"
    }
   ],
   "source": [
    "a.shape"
   ]
  },
  {
   "cell_type": "code",
   "execution_count": 5,
   "id": "8628099e",
   "metadata": {},
   "outputs": [
    {
     "data": {
      "text/plain": [
       "2"
      ]
     },
     "execution_count": 5,
     "metadata": {},
     "output_type": "execute_result"
    }
   ],
   "source": [
    "a.ndim"
   ]
  },
  {
   "cell_type": "code",
   "execution_count": 6,
   "id": "df7f4c92",
   "metadata": {},
   "outputs": [
    {
     "data": {
      "text/plain": [
       "8"
      ]
     },
     "execution_count": 6,
     "metadata": {},
     "output_type": "execute_result"
    }
   ],
   "source": [
    "a.size"
   ]
  },
  {
   "cell_type": "code",
   "execution_count": null,
   "id": "f9ecb425",
   "metadata": {},
   "outputs": [],
   "source": []
  }
 ],
 "metadata": {
  "kernelspec": {
   "display_name": "base",
   "language": "python",
   "name": "python3"
  },
  "language_info": {
   "codemirror_mode": {
    "name": "ipython",
    "version": 3
   },
   "file_extension": ".py",
   "mimetype": "text/x-python",
   "name": "python",
   "nbconvert_exporter": "python",
   "pygments_lexer": "ipython3",
   "version": "3.11.5"
  }
 },
 "nbformat": 4,
 "nbformat_minor": 5
}
