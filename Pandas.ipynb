{
 "cells": [
  {
   "cell_type": "markdown",
   "id": "5291e1b7",
   "metadata": {},
   "source": [
    "# Introducción a Pandas\n",
    "\n",
    "[Pandas](https://pandas.pydata.org/docs/) es una biblioteca que proporciona estructuras de datos y herramientas de analisis de datos de alto rendimiento y faciles de usar.\n",
    "\n",
    "* La estructura de datos principal es el DataFrame, que puede considerarse como una tabla 2D en memoria (como una hoja de cálculo, con nombres de columna y etiquetas de fila).\n",
    "* Muchas funciones disponibles en Excel estan disponibles mediante programación, como crear tablas dinámicas, calcular columnas basadas en otras columnas, trazar gráficos, etc.\n",
    "* Proporciona un alto rendimiento para manipular (uir, dividir, modificar...) grandes conjuntos de datos."
   ]
  },
  {
   "cell_type": "markdown",
   "id": "d7f176a8",
   "metadata": {},
   "source": [
    "## Import"
   ]
  },
  {
   "cell_type": "code",
   "execution_count": 1,
   "id": "96dd2459",
   "metadata": {},
   "outputs": [],
   "source": [
    "import pandas as pd"
   ]
  },
  {
   "cell_type": "markdown",
   "id": "d416df62",
   "metadata": {},
   "source": [
    "## Estructuras de datos en Pandas\n",
    "\n",
    "La biblioteca Pandas, de manera genérica, contiene las siguientes estructuras de datos:\n",
    "\n",
    "* **Series**: Array de una dimensión.\n",
    "* **DataFrame**: Se corresponde con una tabla de dos dimensiones.\n",
    "* **Panel**: Similar a un diccionario de DataFrame."
   ]
  },
  {
   "cell_type": "markdown",
   "id": "f69ebdb0",
   "metadata": {},
   "source": []
  },
  {
   "cell_type": "markdown",
   "id": "468d280b",
   "metadata": {},
   "source": [
    "### Crear un objeto Series"
   ]
  },
  {
   "cell_type": "code",
   "execution_count": 2,
   "id": "712ac47f",
   "metadata": {},
   "outputs": [
    {
     "name": "stdout",
     "output_type": "stream",
     "text": [
      "0     2\n",
      "1     4\n",
      "2     6\n",
      "3     8\n",
      "4    10\n",
      "dtype: int64\n"
     ]
    }
   ],
   "source": [
    "# Crear un objeto Series\n",
    "s = pd.Series([2, 4, 6, 8, 10])\n",
    "print(s)"
   ]
  },
  {
   "cell_type": "code",
   "execution_count": 3,
   "id": "7d713da1",
   "metadata": {},
   "outputs": [
    {
     "name": "stdout",
     "output_type": "stream",
     "text": [
      "Abril     160\n",
      "Marlen    156\n",
      "Carlos    164\n",
      "Josue     173\n",
      "dtype: int64\n"
     ]
    }
   ],
   "source": [
    "# Crear un objeto Series e inicializarlo con un diccionario de Python\n",
    "altura = {\"Abril\": 160, \"Marlen\": 156, \"Carlos\": 164, \"Josue\": 173}\n",
    "s = pd.Series(altura)\n",
    "print(s)"
   ]
  },
  {
   "cell_type": "code",
   "execution_count": null,
   "id": "2b1ffcdd",
   "metadata": {},
   "outputs": [],
   "source": []
  }
 ],
 "metadata": {
  "kernelspec": {
   "display_name": "base",
   "language": "python",
   "name": "python3"
  },
  "language_info": {
   "codemirror_mode": {
    "name": "ipython",
    "version": 3
   },
   "file_extension": ".py",
   "mimetype": "text/x-python",
   "name": "python",
   "nbconvert_exporter": "python",
   "pygments_lexer": "ipython3",
   "version": "3.11.5"
  }
 },
 "nbformat": 4,
 "nbformat_minor": 5
}
